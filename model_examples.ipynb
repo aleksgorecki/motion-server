{
 "cells": [
  {
   "cell_type": "code",
   "execution_count": null,
   "metadata": {},
   "outputs": [],
   "source": [
    "# import dependencies and check if a gpu is available\n",
    "\n",
    "import tensorflow as tf\n",
    "import numpy as np\n",
    "from data_processing import MotionDataset\n",
    "from motion import Motion\n",
    "from typing import Dict\n",
    "from model import *\n",
    "import matplotlib.pyplot as plt\n",
    "\n",
    "print(\"GPUs: \", len(tf.config.list_physical_devices('GPU')))"
   ]
  },
  {
   "cell_type": "code",
   "execution_count": null,
   "metadata": {},
   "outputs": [],
   "source": [
    "# Train a model using default settings (symbolic constants defined in model.py) and save in hdf5 and tflite format\n",
    "\n",
    "model: tf.keras.Sequential = get_prototype_model()\n",
    "opt = tf.keras.optimizers.Adam(learning_rate=0.0001)\n",
    "model.compile(optimizer=opt, loss=\"categorical_crossentropy\", metrics=[\"accuracy\"])\n",
    "\n",
    "dataset = MotionDataset.from_hdf5(DATASET_PATH_H5)\n",
    "val_dataset = MotionDataset.from_hdf5(DATASET_VAL_PATH_H5)\n",
    "\n",
    "dataset.even_sample_numbers_in_classes()\n",
    "val_dataset.even_sample_numbers_in_classes()\n",
    "\n",
    "dataset = dataset.to_tf_dataset()\n",
    "val_dataset = val_dataset.to_tf_dataset()\n",
    "\n",
    "dataset = dataset.batch(8)\n",
    "val_dataset = val_dataset.batch(8)\n",
    "\n",
    "model.fit(x=dataset, epochs=EPOCHS, validation_data=val_dataset, shuffle=True)\n",
    "model.save(MODEL_SAVE_PATH, save_format=\"h5\")\n",
    "\n",
    "convert_to_tflite(MODEL_SAVE_PATH, TFLITE_SAVE_PATH)"
   ]
  },
  {
   "cell_type": "code",
   "execution_count": null,
   "metadata": {},
   "outputs": [],
   "source": []
  }
 ],
 "metadata": {
  "language_info": {
   "name": "python"
  },
  "orig_nbformat": 4
 },
 "nbformat": 4,
 "nbformat_minor": 2
}
